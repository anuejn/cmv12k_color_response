{
 "cells": [
  {
   "cell_type": "markdown",
   "metadata": {},
   "source": [
    "# Color Matrices from datasheet values for the CMV12000\n",
    "\n",
    "In this notebook we are going to try to calculate the color matrecies for the dng development of the CMOSIS cmv12000 from the spectral response found in the datasheet.\n",
    "For this we have extracted the data from the plots on page 19 of the [datasheet](data_raw/CMV12000_DS000603_5-00.pdf) as csv into the [all.csv](data/all.csv) file using a mixture of inkscape,\n",
    "[this plugin](https://github.com/camrbuss/nodes_to_csv) and then rescaling the data with a python script to match the real units."
   ]
  },
  {
   "cell_type": "code",
   "execution_count": 12,
   "metadata": {},
   "outputs": [
    {
     "name": "stdout",
     "output_type": "stream",
     "text": [
      "loaded spectral data from 380.0nm to 730.0nm\n"
     ]
    }
   ],
   "source": [
    "from email.base64mime import header_length\n",
    "import numpy as np\n",
    "import colour\n",
    "x, *channels = np.transpose(np.genfromtxt(\"data/all.csv\", delimiter=\",\", skip_header=1))\n",
    "red, green_red, green_blue, blue, *_ = [colour.SpectralDistribution(channel, x).align(colour.SpectralShape(380, 730, 10)) for channel in channels]\n",
    "print(f\"loaded spectral data from {red.wavelengths[0]}nm to {red.wavelengths[-1]}nm\")"
   ]
  },
  {
   "cell_type": "markdown",
   "metadata": {},
   "source": [
    "We simulate two photographs of a colorchecker under two different iluminants A and D65. Then we generate a color matrix from the simulated exposures. The selection of the colorchecker might not be optimal but it has the advantage, that the experiment can easily be replicated in real life to check the plausibility of the results. In the future we might want to use different color targets that focus more on actual natural things like skin tones and foliage. For that we would need a dataset with spectral responeses of that though."
   ]
  },
  {
   "cell_type": "code",
   "execution_count": null,
   "metadata": {},
   "outputs": [],
   "source": [
    "def print_rust_matrix(matrix):\n",
    "    for row in matrix:\n",
    "        print(\" \".join(f\"({f:d}, 10000), \" for f in row))"
   ]
  },
  {
   "cell_type": "code",
   "execution_count": 29,
   "metadata": {},
   "outputs": [
    {
     "name": "stdout",
     "output_type": "stream",
     "text": [
      "A raw -> XYZ:\n",
      "[[ 0.07445245  2.27973128 -1.38478893]\n",
      " [-0.45117767  3.06046338 -1.29881984]\n",
      " [-0.23271979 -0.42739597  3.09627007]]\n",
      "A XYZ -> raw:\n",
      "[[ 2.56510234 -1.7853895   0.31831867]\n",
      " [ 0.46871988  0.03087444  0.19762582]\n",
      " [ 0.25148638 -0.12230888  0.37033067]]\n",
      "\n",
      "D65 raw -> XYZ:\n",
      "[[ 0.2255407   0.65571105 -0.04778702]\n",
      " [-0.11276934  1.25917394 -0.29162897]\n",
      " [-0.07630574 -0.34850371  1.7361268 ]]\n",
      "D65 XYZ -> raw:\n",
      "[[ 3.21233103 -1.64519507 -0.21142885]\n",
      " [ 0.29065543  0.70213706  0.11869433]\n",
      " [ 0.1779698   0.08911394  0.59002806]]\n",
      "\n"
     ]
    }
   ],
   "source": [
    "color_checker = colour.SDS_COLOURCHECKERS['BabelColor Average']\n",
    "\n",
    "for iluminant in ['A', 'D65']:\n",
    "    xyz_data = []\n",
    "    raw_data = []\n",
    "    for target in color_checker.data.keys():\n",
    "        target_spectrum =  color_checker[target] * colour.SDS_ILLUMINANTS[iluminant].align(colour.SpectralShape(380, 730, 10))\n",
    "        xyz_data.append(colour.colorimetry.sd_to_XYZ(target_spectrum))\n",
    "        raw_data.append([np.sum((target_spectrum * channel).values) for channel in [red, green_red, blue]])\n",
    "    \n",
    "    raw_data_normalized = np.array(raw_data) / np.max(raw_data) * 10_000  # this scaling connstant is there to get a matrix in a reasonable range\n",
    "\n",
    "    print(f\"{iluminant} raw -> XYZ:\")\n",
    "    print(colour.matrix_colour_correction(raw_data_normalized, xyz_data))\n",
    "    print(f\"{iluminant} XYZ -> raw:\")\n",
    "    print(colour.matrix_colour_correction(xyz_data, raw_data_normalized))\n",
    "    print()"
   ]
  }
 ],
 "metadata": {
  "kernelspec": {
   "display_name": "Python 3 (ipykernel)",
   "language": "python",
   "name": "python3"
  },
  "language_info": {
   "codemirror_mode": {
    "name": "ipython",
    "version": 3
   },
   "file_extension": ".py",
   "mimetype": "text/x-python",
   "name": "python",
   "nbconvert_exporter": "python",
   "pygments_lexer": "ipython3",
   "version": "3.10.6"
  },
  "orig_nbformat": 4,
  "vscode": {
   "interpreter": {
    "hash": "1d4fbc24e3ceb2e6b27c0775546f683be6eeb9179c72e944064bf124202b35eb"
   }
  }
 },
 "nbformat": 4,
 "nbformat_minor": 2
}
